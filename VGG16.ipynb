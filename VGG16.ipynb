{
  "nbformat": 4,
  "nbformat_minor": 0,
  "metadata": {
    "colab": {
      "name": "VGG16.ipynb",
      "version": "0.3.2",
      "provenance": [],
      "collapsed_sections": [],
      "include_colab_link": true
    },
    "kernelspec": {
      "name": "python3",
      "display_name": "Python 3"
    },
    "accelerator": "GPU"
  },
  "cells": [
    {
      "cell_type": "markdown",
      "metadata": {
        "id": "view-in-github",
        "colab_type": "text"
      },
      "source": [
        "[View in Colaboratory](https://colab.research.google.com/github/profahad/VGG16-Cifar-10/blob/master/VGG16.ipynb)"
      ]
    },
    {
      "metadata": {
        "id": "cr7oB5zW9Yio",
        "colab_type": "code",
        "colab": {}
      },
      "cell_type": "code",
      "source": [
        "!wget \"https://www.cs.toronto.edu/~kriz/cifar-10-python.tar.gz\""
      ],
      "execution_count": 0,
      "outputs": []
    },
    {
      "metadata": {
        "id": "57xcXSlmE0Ov",
        "colab_type": "code",
        "colab": {}
      },
      "cell_type": "code",
      "source": [
        "!apt-get -qq install -y libsm6 libxext6 && pip install -q -U opencv-python"
      ],
      "execution_count": 0,
      "outputs": []
    },
    {
      "metadata": {
        "id": "6BaF16AUAguY",
        "colab_type": "code",
        "colab": {}
      },
      "cell_type": "code",
      "source": [
        "!tar -xf 'cifar-10-python.tar.gz'"
      ],
      "execution_count": 0,
      "outputs": []
    },
    {
      "metadata": {
        "id": "bHWWwOHC-Tli",
        "colab_type": "code",
        "colab": {
          "base_uri": "https://localhost:8080/",
          "height": 34
        },
        "outputId": "7fd3c73b-5330-46d7-fa18-3ec83dee8157"
      },
      "cell_type": "code",
      "source": [
        "# !cd cifar-10-batches-py\n",
        "# cd cifar-10-batches-py/\n",
        "# !pwd\n",
        "# cd data_batch_1\n",
        "# cd ../..\n",
        "ls"
      ],
      "execution_count": 1,
      "outputs": [
        {
          "output_type": "stream",
          "text": [
            "\u001b[0m\u001b[01;34mcifar-10-batches-py\u001b[0m/  cifar-10-python.tar.gz  \u001b[01;34mdatalab\u001b[0m/\r\n"
          ],
          "name": "stdout"
        }
      ]
    },
    {
      "metadata": {
        "id": "ac1CuMliDDg_",
        "colab_type": "code",
        "colab": {}
      },
      "cell_type": "code",
      "source": [
        "def processImages(images):\n",
        "  pro_data = []\n",
        "  for i in range(len(images)):\n",
        "    img_R = images[i][0:1024].reshape((32, 32))\n",
        "    img_G = images[i][1024:2048].reshape((32, 32))\n",
        "    img_B = images[i][2048:3072].reshape((32, 32))\n",
        "    img = np.dstack((img_R, img_G, img_B))\n",
        "    r_img = cv2.resize(img, (224,224))\n",
        "    pro_data.append(r_img)\n",
        "  return np.array(pro_data)\n"
      ],
      "execution_count": 0,
      "outputs": []
    },
    {
      "metadata": {
        "id": "jKtK15Xq9mPK",
        "colab_type": "code",
        "colab": {}
      },
      "cell_type": "code",
      "source": [
        "import pickle\n",
        "import numpy as np\n",
        "import cv2\n",
        "file = '/content/cifar-10-batches-py/data_batch_1'\n",
        "with open(file, 'rb') as fo:\n",
        "  dict = pickle.load(fo, encoding='latin1')"
      ],
      "execution_count": 0,
      "outputs": []
    },
    {
      "metadata": {
        "id": "uyM4sLDhCL5M",
        "colab_type": "code",
        "colab": {
          "base_uri": "https://localhost:8080/",
          "height": 34
        },
        "outputId": "8fd9243c-3214-47ee-a6c4-d911a6d38813"
      },
      "cell_type": "code",
      "source": [
        "from keras.utils import to_categorical\n",
        "from sklearn.utils import shuffle\n",
        "imageTrain, encodedTrain = shuffle(processImages(dict['data']),to_categorical(dict['labels']))"
      ],
      "execution_count": 4,
      "outputs": [
        {
          "output_type": "stream",
          "text": [
            "Using TensorFlow backend.\n"
          ],
          "name": "stderr"
        }
      ]
    },
    {
      "metadata": {
        "id": "3_KTAlu9wpTW",
        "colab_type": "code",
        "colab": {}
      },
      "cell_type": "code",
      "source": [
        ""
      ],
      "execution_count": 0,
      "outputs": []
    },
    {
      "metadata": {
        "id": "abrB6LpbEn7e",
        "colab_type": "code",
        "colab": {
          "base_uri": "https://localhost:8080/",
          "height": 367
        },
        "outputId": "1699c81b-2f32-4898-af79-6d6719c3817d"
      },
      "cell_type": "code",
      "source": [
        "import matplotlib.pyplot as plt\n",
        "import tensorflow as tf\n",
        "\n",
        "def normalize_production(self,x):\n",
        "        #this function is used to normalize instances in production according to saved training set statistics\n",
        "        # Input: X - a training set\n",
        "        # Output X - a normalized training set according to normalization constants.\n",
        "\n",
        "        #these values produced during first training and are general for the standard cifar10 training set normalization\n",
        "        mean = 120.707\n",
        "        std = 64.15\n",
        "        return (x-mean)/(std+1e-7)\n",
        "\n",
        "# sess = tf.InteractiveSession()\n",
        "\n",
        "rnd = np.random.randint(0,len(imageTrain))\n",
        "plt.imshow(imageTrain[rnd]/255.0)\n",
        "plt.show()\n",
        "# print(sess.run(tf.argmax(encodedTrain[rnd])))\n",
        "print(imageTrain[rnd].shape)\n",
        " "
      ],
      "execution_count": 5,
      "outputs": [
        {
          "output_type": "display_data",
          "data": {
            "image/png": "[encoded data removed]",
            "text/plain": [
              "<matplotlib.figure.Figure at 0x7f1a53d70470>"
            ]
          },
          "metadata": {
            "tags": []
          }
        },
        {
          "output_type": "stream",
          "text": [
            "(224, 224, 3)\n"
          ],
          "name": "stdout"
        }
      ]
    },
    {
      "metadata": {
        "id": "HLBWIH2xys5K",
        "colab_type": "code",
        "colab": {}
      },
      "cell_type": "code",
      "source": [
        "n_classes = 10\n",
        "diemension = 3\n",
        "mu = 0\n",
        "sigma = 0.1\n",
        "\n",
        "\n",
        "x = tf.placeholder(tf.float32,shape=[None,224,224,3])\n",
        "y = tf.placeholder(tf.float32,shape=[None,n_classes])\n"
      ],
      "execution_count": 0,
      "outputs": []
    },
    {
      "metadata": {
        "id": "mRBVzm7w2cnn",
        "colab_type": "code",
        "colab": {
          "base_uri": "https://localhost:8080/",
          "height": 34
        },
        "outputId": "35c106a1-ea26-4804-a60b-fdeb20fd86a9"
      },
      "cell_type": "code",
      "source": [
        "# Convolution 1\n",
        "weights_l1 = tf.Variable(tf.truncated_normal([3,3,3,64], mean=mu , stddev=sigma))\n",
        "biases_l1 = tf.Variable(tf.truncated_normal([64]))\n",
        "\n",
        "outlayer = tf.nn.conv2d(x, weights_l1, [1,1,1,1], padding=\"SAME\")\n",
        "outlayer += biases_l1\n",
        "outlayer = tf.nn.relu(outlayer)\n",
        "print(outlayer)"
      ],
      "execution_count": 7,
      "outputs": [
        {
          "output_type": "stream",
          "text": [
            "Tensor(\"Relu:0\", shape=(?, 224, 224, 64), dtype=float32)\n"
          ],
          "name": "stdout"
        }
      ]
    },
    {
      "metadata": {
        "id": "fFwgysqH2hs4",
        "colab_type": "code",
        "colab": {
          "base_uri": "https://localhost:8080/",
          "height": 34
        },
        "outputId": "87d4ecba-17b2-4624-84c1-5e31daf8c1eb"
      },
      "cell_type": "code",
      "source": [
        "# Convolution 2\n",
        "weights_l2 = tf.Variable(tf.truncated_normal([3,3,64,64], mean=mu , stddev=sigma))\n",
        "biases_l2 = tf.Variable(tf.truncated_normal([64]))\n",
        "\n",
        "\n",
        "outlayer = tf.nn.conv2d(outlayer, weights_l2, [1,1,1,1], padding=\"SAME\")\n",
        "outlayer += biases_l2\n",
        "outlayer = tf.nn.relu(outlayer)\n",
        "print(outlayer)"
      ],
      "execution_count": 8,
      "outputs": [
        {
          "output_type": "stream",
          "text": [
            "Tensor(\"Relu_1:0\", shape=(?, 224, 224, 64), dtype=float32)\n"
          ],
          "name": "stdout"
        }
      ]
    },
    {
      "metadata": {
        "id": "djW-20Zj5RbQ",
        "colab_type": "code",
        "colab": {
          "base_uri": "https://localhost:8080/",
          "height": 34
        },
        "outputId": "d991aad0-1d16-4ae4-a544-43c82a1212c8"
      },
      "cell_type": "code",
      "source": [
        "# MaxPooling 1\n",
        "outlayer = tf.nn.max_pool(outlayer, ksize=[1,2,2,1], strides=[1,2,2,1], padding=\"VALID\")\n",
        "print(outlayer)"
      ],
      "execution_count": 8,
      "outputs": [
        {
          "output_type": "stream",
          "text": [
            "Tensor(\"MaxPool:0\", shape=(?, 112, 112, 64), dtype=float32)\n"
          ],
          "name": "stdout"
        }
      ]
    },
    {
      "metadata": {
        "id": "wvsV8Yw4G130",
        "colab_type": "code",
        "colab": {
          "base_uri": "https://localhost:8080/",
          "height": 34
        },
        "outputId": "d0699a17-cc0c-49e1-f4ae-e39535b7d86c"
      },
      "cell_type": "code",
      "source": [
        "# Convolution 3\n",
        "weights_l3 = tf.Variable(tf.truncated_normal([3,3,64,128], mean=mu , stddev=sigma))\n",
        "biases_l3 = tf.Variable(tf.truncated_normal([128]))\n",
        "\n",
        "\n",
        "outlayer = tf.nn.conv2d(outlayer, weights_l3, [1,1,1,1], padding=\"SAME\")\n",
        "outlayer += biases_l3\n",
        "outlayer = tf.nn.relu(outlayer)\n",
        "print(outlayer)"
      ],
      "execution_count": 9,
      "outputs": [
        {
          "output_type": "stream",
          "text": [
            "Tensor(\"Relu_2:0\", shape=(?, 224, 224, 128), dtype=float32)\n"
          ],
          "name": "stdout"
        }
      ]
    },
    {
      "metadata": {
        "id": "eu17vsCVF-s_",
        "colab_type": "code",
        "colab": {
          "base_uri": "https://localhost:8080/",
          "height": 34
        },
        "outputId": "e9220528-293c-4bda-a25d-a80f166cf52a"
      },
      "cell_type": "code",
      "source": [
        "# Convolution 4\n",
        "weights_l4 = tf.Variable(tf.truncated_normal([3,3,128,128], mean=mu , stddev=sigma))\n",
        "biases_l4 = tf.Variable(tf.truncated_normal([128]))\n",
        "\n",
        "\n",
        "outlayer = tf.nn.conv2d(outlayer, weights_l4, [1,1,1,1], padding=\"SAME\")\n",
        "outlayer += biases_l4\n",
        "outlayer = tf.nn.relu(outlayer)\n",
        "print(outlayer)"
      ],
      "execution_count": 10,
      "outputs": [
        {
          "output_type": "stream",
          "text": [
            "Tensor(\"Relu_3:0\", shape=(?, 224, 224, 128), dtype=float32)\n"
          ],
          "name": "stdout"
        }
      ]
    },
    {
      "metadata": {
        "id": "LKgpTJ-xQp2z",
        "colab_type": "code",
        "colab": {
          "base_uri": "https://localhost:8080/",
          "height": 34
        },
        "outputId": "7265f830-2923-4c6f-84c8-e1c0e331c6fe"
      },
      "cell_type": "code",
      "source": [
        "# MaxPooling 2\n",
        "outlayer = tf.nn.max_pool(outlayer, ksize=[1,2,2,1], strides=[1,2,2,1], padding=\"VALID\")\n",
        "print(outlayer)"
      ],
      "execution_count": 11,
      "outputs": [
        {
          "output_type": "stream",
          "text": [
            "Tensor(\"MaxPool:0\", shape=(?, 112, 112, 128), dtype=float32)\n"
          ],
          "name": "stdout"
        }
      ]
    },
    {
      "metadata": {
        "id": "cM_BKP9eU69m",
        "colab_type": "text"
      },
      "cell_type": "markdown",
      "source": [
        "### **Convolutional Layer 3**"
      ]
    },
    {
      "metadata": {
        "id": "SdzbDXcgSQeB",
        "colab_type": "code",
        "colab": {
          "base_uri": "https://localhost:8080/",
          "height": 34
        },
        "outputId": "e1d6c320-5f68-4706-8222-4c4d37c506e0"
      },
      "cell_type": "code",
      "source": [
        "# Convolution 5\n",
        "weights_l5 = tf.Variable(tf.truncated_normal([3,3,128,256], mean=mu , stddev=sigma))\n",
        "biases_l5 = tf.Variable(tf.truncated_normal([256]))\n",
        "\n",
        "\n",
        "outlayer = tf.nn.conv2d(outlayer, weights_l5, [1,1,1,1], padding=\"SAME\")\n",
        "outlayer += biases_l5\n",
        "outlayer = tf.nn.relu(outlayer)\n",
        "print(outlayer)"
      ],
      "execution_count": 12,
      "outputs": [
        {
          "output_type": "stream",
          "text": [
            "Tensor(\"Relu_4:0\", shape=(?, 112, 112, 256), dtype=float32)\n"
          ],
          "name": "stdout"
        }
      ]
    },
    {
      "metadata": {
        "id": "M5JwfC-CTJ9_",
        "colab_type": "code",
        "colab": {
          "base_uri": "https://localhost:8080/",
          "height": 34
        },
        "outputId": "d15b5a43-80ae-4028-cce0-b6d61265aea4"
      },
      "cell_type": "code",
      "source": [
        "# Convolution 6\n",
        "weights_l6 = tf.Variable(tf.truncated_normal([3,3,256,256], mean=mu , stddev=sigma))\n",
        "biases_l6 = tf.Variable(tf.truncated_normal([256]))\n",
        "\n",
        "\n",
        "outlayer = tf.nn.conv2d(outlayer, weights_l6, [1,1,1,1], padding=\"SAME\")\n",
        "outlayer += biases_l6\n",
        "outlayer = tf.nn.relu(outlayer)\n",
        "print(outlayer)"
      ],
      "execution_count": 13,
      "outputs": [
        {
          "output_type": "stream",
          "text": [
            "Tensor(\"Relu_5:0\", shape=(?, 112, 112, 256), dtype=float32)\n"
          ],
          "name": "stdout"
        }
      ]
    },
    {
      "metadata": {
        "id": "lmOKIC5SSWqz",
        "colab_type": "code",
        "colab": {
          "base_uri": "https://localhost:8080/",
          "height": 34
        },
        "outputId": "ea239fdd-cc16-464c-adcd-2e879fffaed3"
      },
      "cell_type": "code",
      "source": [
        "# Convolution 7\n",
        "weights_l7 = tf.Variable(tf.truncated_normal([3,3,256,256], mean=mu , stddev=sigma))\n",
        "biases_l7 = tf.Variable(tf.truncated_normal([256]))\n",
        "\n",
        "\n",
        "outlayer = tf.nn.conv2d(outlayer, weights_l7, [1,1,1,1], padding=\"SAME\")\n",
        "outlayer += biases_l7\n",
        "outlayer = tf.nn.relu(outlayer)\n",
        "print(outlayer)"
      ],
      "execution_count": 14,
      "outputs": [
        {
          "output_type": "stream",
          "text": [
            "Tensor(\"Relu_6:0\", shape=(?, 112, 112, 256), dtype=float32)\n"
          ],
          "name": "stdout"
        }
      ]
    },
    {
      "metadata": {
        "id": "Rb0MYD0MVRCk",
        "colab_type": "code",
        "colab": {
          "base_uri": "https://localhost:8080/",
          "height": 34
        },
        "outputId": "d9c36182-f6bb-41a1-e49b-b77240553ed5"
      },
      "cell_type": "code",
      "source": [
        "# MaxPooling 1\n",
        "outlayer = tf.nn.max_pool(outlayer, ksize=[1,2,2,1], strides=[1,2,2,1], padding=\"VALID\")\n",
        "print(outlayer)"
      ],
      "execution_count": 15,
      "outputs": [
        {
          "output_type": "stream",
          "text": [
            "Tensor(\"MaxPool_1:0\", shape=(?, 56, 56, 256), dtype=float32)\n"
          ],
          "name": "stdout"
        }
      ]
    },
    {
      "metadata": {
        "id": "LYnpe_GNVslH",
        "colab_type": "text"
      },
      "cell_type": "markdown",
      "source": [
        "### **Convolutional 4**"
      ]
    },
    {
      "metadata": {
        "id": "lVIyhMFIVhy2",
        "colab_type": "code",
        "colab": {
          "base_uri": "https://localhost:8080/",
          "height": 34
        },
        "outputId": "3f1877ff-86fb-4c53-b594-2cea04308d90"
      },
      "cell_type": "code",
      "source": [
        "# Convolution 8\n",
        "weights_l8 = tf.Variable(tf.truncated_normal([3,3,256,512], mean=mu , stddev=sigma))\n",
        "biases_l8 = tf.Variable(tf.truncated_normal([512]))\n",
        "\n",
        "\n",
        "outlayer = tf.nn.conv2d(outlayer, weights_l8, [1,1,1,1], padding=\"SAME\")\n",
        "outlayer += biases_l8\n",
        "outlayer = tf.nn.relu(outlayer)\n",
        "print(outlayer)"
      ],
      "execution_count": 16,
      "outputs": [
        {
          "output_type": "stream",
          "text": [
            "Tensor(\"Relu_7:0\", shape=(?, 56, 56, 512), dtype=float32)\n"
          ],
          "name": "stdout"
        }
      ]
    },
    {
      "metadata": {
        "id": "k2VDBr49WCwF",
        "colab_type": "code",
        "colab": {
          "base_uri": "https://localhost:8080/",
          "height": 34
        },
        "outputId": "5310b6b8-79cb-4f0b-c161-c0c0d604490a"
      },
      "cell_type": "code",
      "source": [
        "# Convolution 9\n",
        "weights_l9 = tf.Variable(tf.truncated_normal([3,3,512,512], mean=mu , stddev=sigma))\n",
        "biases_l9 = tf.Variable(tf.truncated_normal([512]))\n",
        "\n",
        "\n",
        "outlayer = tf.nn.conv2d(outlayer, weights_l9, [1,1,1,1], padding=\"SAME\")\n",
        "outlayer += biases_l9\n",
        "outlayer = tf.nn.relu(outlayer)\n",
        "print(outlayer)"
      ],
      "execution_count": 17,
      "outputs": [
        {
          "output_type": "stream",
          "text": [
            "Tensor(\"Relu_8:0\", shape=(?, 56, 56, 512), dtype=float32)\n"
          ],
          "name": "stdout"
        }
      ]
    },
    {
      "metadata": {
        "id": "1hBtgxjUWTg2",
        "colab_type": "code",
        "colab": {
          "base_uri": "https://localhost:8080/",
          "height": 34
        },
        "outputId": "5109272c-3a10-41f0-c7ef-bb22ae4887ab"
      },
      "cell_type": "code",
      "source": [
        "# Convolution 10\n",
        "weights_l10 = tf.Variable(tf.truncated_normal([3,3,512,512], mean=mu , stddev=sigma))\n",
        "biases_l10 = tf.Variable(tf.truncated_normal([512]))\n",
        "\n",
        "\n",
        "outlayer = tf.nn.conv2d(outlayer, weights_l10, [1,1,1,1], padding=\"SAME\")\n",
        "outlayer += biases_l10\n",
        "outlayer = tf.nn.relu(outlayer)\n",
        "print(outlayer)"
      ],
      "execution_count": 18,
      "outputs": [
        {
          "output_type": "stream",
          "text": [
            "Tensor(\"Relu_9:0\", shape=(?, 56, 56, 512), dtype=float32)\n"
          ],
          "name": "stdout"
        }
      ]
    },
    {
      "metadata": {
        "id": "cBX7u0vaWbHP",
        "colab_type": "code",
        "colab": {
          "base_uri": "https://localhost:8080/",
          "height": 34
        },
        "outputId": "e83e5fa1-9850-48e5-9510-748772100593"
      },
      "cell_type": "code",
      "source": [
        "# MaxPooling 4\n",
        "outlayer = tf.nn.max_pool(outlayer, ksize=[1,2,2,1], strides=[1,2,2,1], padding=\"VALID\")\n",
        "print(outlayer)"
      ],
      "execution_count": 19,
      "outputs": [
        {
          "output_type": "stream",
          "text": [
            "Tensor(\"MaxPool_2:0\", shape=(?, 28, 28, 512), dtype=float32)\n"
          ],
          "name": "stdout"
        }
      ]
    },
    {
      "metadata": {
        "id": "_N7cyGiQWwdf",
        "colab_type": "text"
      },
      "cell_type": "markdown",
      "source": [
        "### **Colvolutional 5**"
      ]
    },
    {
      "metadata": {
        "id": "OvCOA0lhW2Vr",
        "colab_type": "code",
        "colab": {
          "base_uri": "https://localhost:8080/",
          "height": 34
        },
        "outputId": "9c840b30-f3e4-4175-ab33-8b892381f678"
      },
      "cell_type": "code",
      "source": [
        "# Convolution 11\n",
        "weights_l11 = tf.Variable(tf.truncated_normal([3,3,512,512], mean=mu , stddev=sigma))\n",
        "biases_l11 = tf.Variable(tf.truncated_normal([512]))\n",
        "\n",
        "\n",
        "outlayer = tf.nn.conv2d(outlayer, weights_l11, [1,1,1,1], padding=\"SAME\")\n",
        "outlayer += biases_l11\n",
        "outlayer = tf.nn.relu(outlayer)\n",
        "print(outlayer)"
      ],
      "execution_count": 20,
      "outputs": [
        {
          "output_type": "stream",
          "text": [
            "Tensor(\"Relu_10:0\", shape=(?, 28, 28, 512), dtype=float32)\n"
          ],
          "name": "stdout"
        }
      ]
    },
    {
      "metadata": {
        "id": "B-Nl1tH9XK43",
        "colab_type": "code",
        "colab": {
          "base_uri": "https://localhost:8080/",
          "height": 34
        },
        "outputId": "8106738a-d948-4a6b-bb23-e23af10cd3cc"
      },
      "cell_type": "code",
      "source": [
        "# Convolution 12\n",
        "weights_l12 = tf.Variable(tf.truncated_normal([3,3,512,512], mean=mu , stddev=sigma))\n",
        "biases_l12 = tf.Variable(tf.truncated_normal([512]))\n",
        "\n",
        "\n",
        "outlayer = tf.nn.conv2d(outlayer, weights_l12, [1,1,1,1], padding=\"SAME\")\n",
        "outlayer += biases_l12\n",
        "outlayer = tf.nn.relu(outlayer)\n",
        "print(outlayer)"
      ],
      "execution_count": 21,
      "outputs": [
        {
          "output_type": "stream",
          "text": [
            "Tensor(\"Relu_11:0\", shape=(?, 28, 28, 512), dtype=float32)\n"
          ],
          "name": "stdout"
        }
      ]
    },
    {
      "metadata": {
        "id": "vfVfq-mOXOTF",
        "colab_type": "code",
        "colab": {
          "base_uri": "https://localhost:8080/",
          "height": 34
        },
        "outputId": "97034652-1259-4dfe-c38b-101dfc6d6819"
      },
      "cell_type": "code",
      "source": [
        "# Convolution 13\n",
        "weights_l13 = tf.Variable(tf.truncated_normal([3,3,512,512], mean=mu , stddev=sigma))\n",
        "biases_l13 = tf.Variable(tf.truncated_normal([512]))\n",
        "\n",
        "\n",
        "outlayer = tf.nn.conv2d(outlayer, weights_l13, [1,1,1,1], padding=\"SAME\")\n",
        "outlayer += biases_l13\n",
        "outlayer = tf.nn.relu(outlayer)\n",
        "print(outlayer)"
      ],
      "execution_count": 22,
      "outputs": [
        {
          "output_type": "stream",
          "text": [
            "Tensor(\"Relu_12:0\", shape=(?, 28, 28, 512), dtype=float32)\n"
          ],
          "name": "stdout"
        }
      ]
    },
    {
      "metadata": {
        "id": "IMkwJCTLXS9e",
        "colab_type": "code",
        "colab": {
          "base_uri": "https://localhost:8080/",
          "height": 34
        },
        "outputId": "d611b7c5-8f77-4fcc-d429-b3d5ffbeb388"
      },
      "cell_type": "code",
      "source": [
        "# MaxPooling 5\n",
        "outlayer = tf.nn.max_pool(outlayer, ksize=[1,2,2,1], strides=[1,2,2,1], padding=\"VALID\")\n",
        "print(outlayer)"
      ],
      "execution_count": 23,
      "outputs": [
        {
          "output_type": "stream",
          "text": [
            "Tensor(\"MaxPool_3:0\", shape=(?, 14, 14, 512), dtype=float32)\n"
          ],
          "name": "stdout"
        }
      ]
    },
    {
      "metadata": {
        "id": "dy0yoHxUYHhh",
        "colab_type": "text"
      },
      "cell_type": "markdown",
      "source": [
        "### **Flatting Neuron**"
      ]
    },
    {
      "metadata": {
        "id": "STq2XC6sXVG2",
        "colab_type": "code",
        "colab": {
          "base_uri": "https://localhost:8080/",
          "height": 34
        },
        "outputId": "450d562b-2589-495c-f0c3-bcf8527dd2b5"
      },
      "cell_type": "code",
      "source": [
        "# Flatting \n",
        "flattened = tf.reshape(outlayer, [-1, 7*7*512])\n",
        "print(flattened)"
      ],
      "execution_count": 24,
      "outputs": [
        {
          "output_type": "stream",
          "text": [
            "Tensor(\"Reshape:0\", shape=(?, 25088), dtype=float32)\n"
          ],
          "name": "stdout"
        }
      ]
    },
    {
      "metadata": {
        "id": "W5ISPMaecIKD",
        "colab_type": "text"
      },
      "cell_type": "markdown",
      "source": [
        "### **FC LAYERS**"
      ]
    },
    {
      "metadata": {
        "id": "ZbcYgW61cLa0",
        "colab_type": "code",
        "colab": {
          "base_uri": "https://localhost:8080/",
          "height": 34
        },
        "outputId": "618cbd3e-0f7b-48a2-b8d8-30647909d0fd"
      },
      "cell_type": "code",
      "source": [
        "#FC 1 \n",
        "wd1 = tf.Variable(tf.truncated_normal([7*7*512 , 4096], mean=mu , stddev=sigma))\n",
        "bd1 = tf.Variable(tf.truncated_normal([4096]))\n",
        "\n",
        "outlayer = tf.matmul(flattened, wd1) + bd1\n",
        "outlayer = tf.nn.relu(outlayer)\n",
        "print(outlayer)"
      ],
      "execution_count": 25,
      "outputs": [
        {
          "output_type": "stream",
          "text": [
            "Tensor(\"Relu_13:0\", shape=(?, 4096), dtype=float32)\n"
          ],
          "name": "stdout"
        }
      ]
    },
    {
      "metadata": {
        "id": "2WoBcOSTcax9",
        "colab_type": "code",
        "colab": {
          "base_uri": "https://localhost:8080/",
          "height": 34
        },
        "outputId": "99981273-ab26-45d4-dd1d-0ad26a47ae48"
      },
      "cell_type": "code",
      "source": [
        "#FC 2\n",
        "wd2 = tf.Variable(tf.truncated_normal([4096 , 4096], mean=mu , stddev=sigma))\n",
        "bd2 = tf.Variable(tf.truncated_normal([4096]))\n",
        "\n",
        "outlayer = tf.matmul(outlayer, wd2) + bd2\n",
        "outlayer = tf.nn.relu(outlayer)\n",
        "print(outlayer)"
      ],
      "execution_count": 26,
      "outputs": [
        {
          "output_type": "stream",
          "text": [
            "Tensor(\"Relu_14:0\", shape=(?, 4096), dtype=float32)\n"
          ],
          "name": "stdout"
        }
      ]
    },
    {
      "metadata": {
        "id": "yOxvq9gdgVDH",
        "colab_type": "code",
        "colab": {}
      },
      "cell_type": "code",
      "source": [
        "#Output Layer\n",
        "wd0 = tf.Variable(tf.truncated_normal([4096, 10], mean=mu , stddev=sigma))\n",
        "bd0 = tf.Variable(tf.truncated_normal([10]))\n",
        "outlayer = tf.matmul(outlayer, wd0) + bd0\n",
        "outlayer = tf.nn.relu(outlayer)"
      ],
      "execution_count": 0,
      "outputs": []
    },
    {
      "metadata": {
        "id": "Lp-Wx9uEclDV",
        "colab_type": "code",
        "colab": {
          "base_uri": "https://localhost:8080/",
          "height": 173
        },
        "outputId": "b80dad0b-0bd5-4bfc-a7fc-012792379c5d"
      },
      "cell_type": "code",
      "source": [
        "pred = tf.nn.softmax(outlayer)\n",
        "\n",
        "loss = tf.reduce_mean(tf.nn.softmax_cross_entropy_with_logits(labels=y, logits=outlayer))\n",
        "optimizer = tf.train.AdamOptimizer(0.0001) # learning rate\n",
        "train = optimizer.minimize(loss)\n",
        "correct_prediction = tf.equal(tf.argmax(y, 1), tf.argmax(pred, 1))\n",
        "total_prediction = tf.reduce_sum(tf.cast(correct_prediction, tf.float32))\n",
        "accuracy = tf.reduce_mean(tf.cast(correct_prediction, tf.float32))"
      ],
      "execution_count": 28,
      "outputs": [
        {
          "output_type": "stream",
          "text": [
            "WARNING:tensorflow:From <ipython-input-28-6b5d0e803050>:3: softmax_cross_entropy_with_logits (from tensorflow.python.ops.nn_ops) is deprecated and will be removed in a future version.\n",
            "Instructions for updating:\n",
            "\n",
            "Future major versions of TensorFlow will allow gradients to flow\n",
            "into the labels input on backprop by default.\n",
            "\n",
            "See @{tf.nn.softmax_cross_entropy_with_logits_v2}.\n",
            "\n"
          ],
          "name": "stdout"
        }
      ]
    },
    {
      "metadata": {
        "id": "NATu-0tNdFYV",
        "colab_type": "code",
        "colab": {}
      },
      "cell_type": "code",
      "source": [
        "sess = tf.InteractiveSession()\n",
        "tf.global_variables_initializer().run()"
      ],
      "execution_count": 0,
      "outputs": []
    },
    {
      "metadata": {
        "id": "cjQFbRZYedJK",
        "colab_type": "text"
      },
      "cell_type": "markdown",
      "source": [
        "### **Traing**"
      ]
    },
    {
      "metadata": {
        "id": "Y-dFUetSeacD",
        "colab_type": "code",
        "colab": {}
      },
      "cell_type": "code",
      "source": [
        "def trainModel_v2():\n",
        "  batch_size = 128\n",
        "  for epoch in range(20):\n",
        "    epoch_loss = 0 \n",
        "    total_accuracy = 0\n",
        "    for offset in range(0, len(imageTrain), batch_size):\n",
        "      end = offset + batch_size\n",
        "      batch_x = imageTrain[offset:end]\n",
        "      batch_y = encodedTrain[offset:end]\n",
        "      accuracy_in_batch = sess.run(total_prediction, feed_dict={x: batch_x, y: batch_y})\n",
        "      print(accuracy_in_batch)\n",
        "#       total_accuracy += accuracy_in_batch\n",
        "#     print(\"Epoch \",epoch, \" Epoch Loss \",epoch_loss, \" Accuracy Total \", total_accuracy/len(imageTrain) * 100)\n",
        "\n",
        "\n",
        "def trainModel_v1():\n",
        "  batch_size = 50\n",
        "  for epoch in range(20):\n",
        "    epoch_loss = 0 \n",
        "    total_accuracy = 0\n",
        "    for offset in range(0, len(imageTrain), batch_size):\n",
        "      end = offset + batch_size\n",
        "      batch_x = imageTrain[offset:end]\n",
        "      batch_y = encodedTrain[offset:end]\n",
        "      c = sess.run(loss, feed_dict={x: batch_x, y: batch_y})\n",
        "      accuracy_in_batch = sess.run(total_prediction, feed_dict={x: batch_x, y: batch_y})\n",
        "      total_accuracy += accuracy_in_batch\n",
        "      epoch_loss += c\n",
        "      print(c)\n",
        "      print(accuracy_in_batch)\n",
        "    print(\"Epoch \",epoch, \" Epoch Loss \",epoch_loss, \" Accuracy Total \", total_accuracy/len(imageTrain) * 100)\n",
        "#       print(sess.run(pred, feed_dict={x: batch_x}))\n",
        "#       print(sess.run(correct_prediction, feed_dict={x: batch_x, y: batch_y}))"
      ],
      "execution_count": 0,
      "outputs": []
    },
    {
      "metadata": {
        "id": "zeHXoHxPfSea",
        "colab_type": "code",
        "colab": {
          "base_uri": "https://localhost:8080/",
          "height": 2394
        },
        "outputId": "576deaca-78ca-4bbe-c500-86164327ae39"
      },
      "cell_type": "code",
      "source": [
        "trainModel_v2()\n",
        "# trainModel_v1()"
      ],
      "execution_count": 34,
      "outputs": [
        {
          "output_type": "error",
          "ename": "ResourceExhaustedError",
          "evalue": "ignored",
          "traceback": [
            "\u001b[0;31m---------------------------------------------------------------------------\u001b[0m",
            "\u001b[0;31mResourceExhaustedError\u001b[0m                    Traceback (most recent call last)",
            "\u001b[0;32m/usr/local/lib/python3.6/dist-packages/tensorflow/python/client/session.py\u001b[0m in \u001b[0;36m_do_call\u001b[0;34m(self, fn, *args)\u001b[0m\n\u001b[1;32m   1277\u001b[0m     \u001b[0;32mtry\u001b[0m\u001b[0;34m:\u001b[0m\u001b[0;34m\u001b[0m\u001b[0m\n\u001b[0;32m-> 1278\u001b[0;31m       \u001b[0;32mreturn\u001b[0m \u001b[0mfn\u001b[0m\u001b[0;34m(\u001b[0m\u001b[0;34m*\u001b[0m\u001b[0margs\u001b[0m\u001b[0;34m)\u001b[0m\u001b[0;34m\u001b[0m\u001b[0m\n\u001b[0m\u001b[1;32m   1279\u001b[0m     \u001b[0;32mexcept\u001b[0m \u001b[0merrors\u001b[0m\u001b[0;34m.\u001b[0m\u001b[0mOpError\u001b[0m \u001b[0;32mas\u001b[0m \u001b[0me\u001b[0m\u001b[0;34m:\u001b[0m\u001b[0;34m\u001b[0m\u001b[0m\n",
            "\u001b[0;32m/usr/local/lib/python3.6/dist-packages/tensorflow/python/client/session.py\u001b[0m in \u001b[0;36m_run_fn\u001b[0;34m(feed_dict, fetch_list, target_list, options, run_metadata)\u001b[0m\n\u001b[1;32m   1262\u001b[0m       return self._call_tf_sessionrun(\n\u001b[0;32m-> 1263\u001b[0;31m           options, feed_dict, fetch_list, target_list, run_metadata)\n\u001b[0m\u001b[1;32m   1264\u001b[0m \u001b[0;34m\u001b[0m\u001b[0m\n",
            "\u001b[0;32m/usr/local/lib/python3.6/dist-packages/tensorflow/python/client/session.py\u001b[0m in \u001b[0;36m_call_tf_sessionrun\u001b[0;34m(self, options, feed_dict, fetch_list, target_list, run_metadata)\u001b[0m\n\u001b[1;32m   1349\u001b[0m         \u001b[0mself\u001b[0m\u001b[0;34m.\u001b[0m\u001b[0m_session\u001b[0m\u001b[0;34m,\u001b[0m \u001b[0moptions\u001b[0m\u001b[0;34m,\u001b[0m \u001b[0mfeed_dict\u001b[0m\u001b[0;34m,\u001b[0m \u001b[0mfetch_list\u001b[0m\u001b[0;34m,\u001b[0m \u001b[0mtarget_list\u001b[0m\u001b[0;34m,\u001b[0m\u001b[0;34m\u001b[0m\u001b[0m\n\u001b[0;32m-> 1350\u001b[0;31m         run_metadata)\n\u001b[0m\u001b[1;32m   1351\u001b[0m \u001b[0;34m\u001b[0m\u001b[0m\n",
            "\u001b[0;31mResourceExhaustedError\u001b[0m: OOM when allocating tensor with shape[128,224,224,128] and type float on /job:localhost/replica:0/task:0/device:GPU:0 by allocator GPU_0_bfc\n\t [[Node: Conv2D_2 = Conv2D[T=DT_FLOAT, data_format=\"NHWC\", dilations=[1, 1, 1, 1], padding=\"SAME\", strides=[1, 1, 1, 1], use_cudnn_on_gpu=true, _device=\"/job:localhost/replica:0/task:0/device:GPU:0\"](Relu_1, Variable_4/read)]]\nHint: If you want to see a list of allocated tensors when OOM happens, add report_tensor_allocations_upon_oom to RunOptions for current allocation info.\n\n\t [[Node: Sum/_11 = _Recv[client_terminated=false, recv_device=\"/job:localhost/replica:0/task:0/device:CPU:0\", send_device=\"/job:localhost/replica:0/task:0/device:GPU:0\", send_device_incarnation=1, tensor_name=\"edge_170_Sum\", tensor_type=DT_FLOAT, _device=\"/job:localhost/replica:0/task:0/device:CPU:0\"]()]]\nHint: If you want to see a list of allocated tensors when OOM happens, add report_tensor_allocations_upon_oom to RunOptions for current allocation info.\n",
            "\nDuring handling of the above exception, another exception occurred:\n",
            "\u001b[0;31mResourceExhaustedError\u001b[0m                    Traceback (most recent call last)",
            "\u001b[0;32m<ipython-input-34-2df2415297ae>\u001b[0m in \u001b[0;36m<module>\u001b[0;34m()\u001b[0m\n\u001b[0;32m----> 1\u001b[0;31m \u001b[0mtrainModel_v2\u001b[0m\u001b[0;34m(\u001b[0m\u001b[0;34m)\u001b[0m\u001b[0;34m\u001b[0m\u001b[0m\n\u001b[0m\u001b[1;32m      2\u001b[0m \u001b[0;31m# trainModel_v1()\u001b[0m\u001b[0;34m\u001b[0m\u001b[0;34m\u001b[0m\u001b[0m\n",
            "\u001b[0;32m<ipython-input-32-45c45e1c8347>\u001b[0m in \u001b[0;36mtrainModel_v2\u001b[0;34m()\u001b[0m\n\u001b[1;32m      8\u001b[0m       \u001b[0mbatch_x\u001b[0m \u001b[0;34m=\u001b[0m \u001b[0mimageTrain\u001b[0m\u001b[0;34m[\u001b[0m\u001b[0moffset\u001b[0m\u001b[0;34m:\u001b[0m\u001b[0mend\u001b[0m\u001b[0;34m]\u001b[0m\u001b[0;34m\u001b[0m\u001b[0m\n\u001b[1;32m      9\u001b[0m       \u001b[0mbatch_y\u001b[0m \u001b[0;34m=\u001b[0m \u001b[0mencodedTrain\u001b[0m\u001b[0;34m[\u001b[0m\u001b[0moffset\u001b[0m\u001b[0;34m:\u001b[0m\u001b[0mend\u001b[0m\u001b[0;34m]\u001b[0m\u001b[0;34m\u001b[0m\u001b[0m\n\u001b[0;32m---> 10\u001b[0;31m       \u001b[0maccuracy_in_batch\u001b[0m \u001b[0;34m=\u001b[0m \u001b[0msess\u001b[0m\u001b[0;34m.\u001b[0m\u001b[0mrun\u001b[0m\u001b[0;34m(\u001b[0m\u001b[0mtotal_prediction\u001b[0m\u001b[0;34m,\u001b[0m \u001b[0mfeed_dict\u001b[0m\u001b[0;34m=\u001b[0m\u001b[0;34m{\u001b[0m\u001b[0mx\u001b[0m\u001b[0;34m:\u001b[0m \u001b[0mbatch_x\u001b[0m\u001b[0;34m,\u001b[0m \u001b[0my\u001b[0m\u001b[0;34m:\u001b[0m \u001b[0mbatch_y\u001b[0m\u001b[0;34m}\u001b[0m\u001b[0;34m)\u001b[0m\u001b[0;34m\u001b[0m\u001b[0m\n\u001b[0m\u001b[1;32m     11\u001b[0m       \u001b[0mprint\u001b[0m\u001b[0;34m(\u001b[0m\u001b[0maccuracy_in_batch\u001b[0m\u001b[0;34m)\u001b[0m\u001b[0;34m\u001b[0m\u001b[0m\n\u001b[1;32m     12\u001b[0m \u001b[0;31m#       total_accuracy += accuracy_in_batch\u001b[0m\u001b[0;34m\u001b[0m\u001b[0;34m\u001b[0m\u001b[0m\n",
            "\u001b[0;32m/usr/local/lib/python3.6/dist-packages/tensorflow/python/client/session.py\u001b[0m in \u001b[0;36mrun\u001b[0;34m(self, fetches, feed_dict, options, run_metadata)\u001b[0m\n\u001b[1;32m    875\u001b[0m     \u001b[0;32mtry\u001b[0m\u001b[0;34m:\u001b[0m\u001b[0;34m\u001b[0m\u001b[0m\n\u001b[1;32m    876\u001b[0m       result = self._run(None, fetches, feed_dict, options_ptr,\n\u001b[0;32m--> 877\u001b[0;31m                          run_metadata_ptr)\n\u001b[0m\u001b[1;32m    878\u001b[0m       \u001b[0;32mif\u001b[0m \u001b[0mrun_metadata\u001b[0m\u001b[0;34m:\u001b[0m\u001b[0;34m\u001b[0m\u001b[0m\n\u001b[1;32m    879\u001b[0m         \u001b[0mproto_data\u001b[0m \u001b[0;34m=\u001b[0m \u001b[0mtf_session\u001b[0m\u001b[0;34m.\u001b[0m\u001b[0mTF_GetBuffer\u001b[0m\u001b[0;34m(\u001b[0m\u001b[0mrun_metadata_ptr\u001b[0m\u001b[0;34m)\u001b[0m\u001b[0;34m\u001b[0m\u001b[0m\n",
            "\u001b[0;32m/usr/local/lib/python3.6/dist-packages/tensorflow/python/client/session.py\u001b[0m in \u001b[0;36m_run\u001b[0;34m(self, handle, fetches, feed_dict, options, run_metadata)\u001b[0m\n\u001b[1;32m   1098\u001b[0m     \u001b[0;32mif\u001b[0m \u001b[0mfinal_fetches\u001b[0m \u001b[0;32mor\u001b[0m \u001b[0mfinal_targets\u001b[0m \u001b[0;32mor\u001b[0m \u001b[0;34m(\u001b[0m\u001b[0mhandle\u001b[0m \u001b[0;32mand\u001b[0m \u001b[0mfeed_dict_tensor\u001b[0m\u001b[0;34m)\u001b[0m\u001b[0;34m:\u001b[0m\u001b[0;34m\u001b[0m\u001b[0m\n\u001b[1;32m   1099\u001b[0m       results = self._do_run(handle, final_targets, final_fetches,\n\u001b[0;32m-> 1100\u001b[0;31m                              feed_dict_tensor, options, run_metadata)\n\u001b[0m\u001b[1;32m   1101\u001b[0m     \u001b[0;32melse\u001b[0m\u001b[0;34m:\u001b[0m\u001b[0;34m\u001b[0m\u001b[0m\n\u001b[1;32m   1102\u001b[0m       \u001b[0mresults\u001b[0m \u001b[0;34m=\u001b[0m \u001b[0;34m[\u001b[0m\u001b[0;34m]\u001b[0m\u001b[0;34m\u001b[0m\u001b[0m\n",
            "\u001b[0;32m/usr/local/lib/python3.6/dist-packages/tensorflow/python/client/session.py\u001b[0m in \u001b[0;36m_do_run\u001b[0;34m(self, handle, target_list, fetch_list, feed_dict, options, run_metadata)\u001b[0m\n\u001b[1;32m   1270\u001b[0m     \u001b[0;32mif\u001b[0m \u001b[0mhandle\u001b[0m \u001b[0;32mis\u001b[0m \u001b[0;32mNone\u001b[0m\u001b[0;34m:\u001b[0m\u001b[0;34m\u001b[0m\u001b[0m\n\u001b[1;32m   1271\u001b[0m       return self._do_call(_run_fn, feeds, fetches, targets, options,\n\u001b[0;32m-> 1272\u001b[0;31m                            run_metadata)\n\u001b[0m\u001b[1;32m   1273\u001b[0m     \u001b[0;32melse\u001b[0m\u001b[0;34m:\u001b[0m\u001b[0;34m\u001b[0m\u001b[0m\n\u001b[1;32m   1274\u001b[0m       \u001b[0;32mreturn\u001b[0m \u001b[0mself\u001b[0m\u001b[0;34m.\u001b[0m\u001b[0m_do_call\u001b[0m\u001b[0;34m(\u001b[0m\u001b[0m_prun_fn\u001b[0m\u001b[0;34m,\u001b[0m \u001b[0mhandle\u001b[0m\u001b[0;34m,\u001b[0m \u001b[0mfeeds\u001b[0m\u001b[0;34m,\u001b[0m \u001b[0mfetches\u001b[0m\u001b[0;34m)\u001b[0m\u001b[0;34m\u001b[0m\u001b[0m\n",
            "\u001b[0;32m/usr/local/lib/python3.6/dist-packages/tensorflow/python/client/session.py\u001b[0m in \u001b[0;36m_do_call\u001b[0;34m(self, fn, *args)\u001b[0m\n\u001b[1;32m   1289\u001b[0m         \u001b[0;32mexcept\u001b[0m \u001b[0mKeyError\u001b[0m\u001b[0;34m:\u001b[0m\u001b[0;34m\u001b[0m\u001b[0m\n\u001b[1;32m   1290\u001b[0m           \u001b[0;32mpass\u001b[0m\u001b[0;34m\u001b[0m\u001b[0m\n\u001b[0;32m-> 1291\u001b[0;31m       \u001b[0;32mraise\u001b[0m \u001b[0mtype\u001b[0m\u001b[0;34m(\u001b[0m\u001b[0me\u001b[0m\u001b[0;34m)\u001b[0m\u001b[0;34m(\u001b[0m\u001b[0mnode_def\u001b[0m\u001b[0;34m,\u001b[0m \u001b[0mop\u001b[0m\u001b[0;34m,\u001b[0m \u001b[0mmessage\u001b[0m\u001b[0;34m)\u001b[0m\u001b[0;34m\u001b[0m\u001b[0m\n\u001b[0m\u001b[1;32m   1292\u001b[0m \u001b[0;34m\u001b[0m\u001b[0m\n\u001b[1;32m   1293\u001b[0m   \u001b[0;32mdef\u001b[0m \u001b[0m_extend_graph\u001b[0m\u001b[0;34m(\u001b[0m\u001b[0mself\u001b[0m\u001b[0;34m)\u001b[0m\u001b[0;34m:\u001b[0m\u001b[0;34m\u001b[0m\u001b[0m\n",
            "\u001b[0;31mResourceExhaustedError\u001b[0m: OOM when allocating tensor with shape[128,224,224,128] and type float on /job:localhost/replica:0/task:0/device:GPU:0 by allocator GPU_0_bfc\n\t [[Node: Conv2D_2 = Conv2D[T=DT_FLOAT, data_format=\"NHWC\", dilations=[1, 1, 1, 1], padding=\"SAME\", strides=[1, 1, 1, 1], use_cudnn_on_gpu=true, _device=\"/job:localhost/replica:0/task:0/device:GPU:0\"](Relu_1, Variable_4/read)]]\nHint: If you want to see a list of allocated tensors when OOM happens, add report_tensor_allocations_upon_oom to RunOptions for current allocation info.\n\n\t [[Node: Sum/_11 = _Recv[client_terminated=false, recv_device=\"/job:localhost/replica:0/task:0/device:CPU:0\", send_device=\"/job:localhost/replica:0/task:0/device:GPU:0\", send_device_incarnation=1, tensor_name=\"edge_170_Sum\", tensor_type=DT_FLOAT, _device=\"/job:localhost/replica:0/task:0/device:CPU:0\"]()]]\nHint: If you want to see a list of allocated tensors when OOM happens, add report_tensor_allocations_upon_oom to RunOptions for current allocation info.\n\n\nCaused by op 'Conv2D_2', defined at:\n  File \"/usr/lib/python3.6/runpy.py\", line 193, in _run_module_as_main\n    \"__main__\", mod_spec)\n  File \"/usr/lib/python3.6/runpy.py\", line 85, in _run_code\n    exec(code, run_globals)\n  File \"/usr/local/lib/python3.6/dist-packages/ipykernel_launcher.py\", line 16, in <module>\n    app.launch_new_instance()\n  File \"/usr/local/lib/python3.6/dist-packages/traitlets/config/application.py\", line 658, in launch_instance\n    app.start()\n  File \"/usr/local/lib/python3.6/dist-packages/ipykernel/kernelapp.py\", line 477, in start\n    ioloop.IOLoop.instance().start()\n  File \"/usr/local/lib/python3.6/dist-packages/zmq/eventloop/ioloop.py\", line 177, in start\n    super(ZMQIOLoop, self).start()\n  File \"/usr/local/lib/python3.6/dist-packages/tornado/ioloop.py\", line 888, in start\n    handler_func(fd_obj, events)\n  File \"/usr/local/lib/python3.6/dist-packages/tornado/stack_context.py\", line 277, in null_wrapper\n    return fn(*args, **kwargs)\n  File \"/usr/local/lib/python3.6/dist-packages/zmq/eventloop/zmqstream.py\", line 440, in _handle_events\n    self._handle_recv()\n  File \"/usr/local/lib/python3.6/dist-packages/zmq/eventloop/zmqstream.py\", line 472, in _handle_recv\n    self._run_callback(callback, msg)\n  File \"/usr/local/lib/python3.6/dist-packages/zmq/eventloop/zmqstream.py\", line 414, in _run_callback\n    callback(*args, **kwargs)\n  File \"/usr/local/lib/python3.6/dist-packages/tornado/stack_context.py\", line 277, in null_wrapper\n    return fn(*args, **kwargs)\n  File \"/usr/local/lib/python3.6/dist-packages/ipykernel/kernelbase.py\", line 283, in dispatcher\n    return self.dispatch_shell(stream, msg)\n  File \"/usr/local/lib/python3.6/dist-packages/ipykernel/kernelbase.py\", line 235, in dispatch_shell\n    handler(stream, idents, msg)\n  File \"/usr/local/lib/python3.6/dist-packages/ipykernel/kernelbase.py\", line 399, in execute_request\n    user_expressions, allow_stdin)\n  File \"/usr/local/lib/python3.6/dist-packages/ipykernel/ipkernel.py\", line 196, in do_execute\n    res = shell.run_cell(code, store_history=store_history, silent=silent)\n  File \"/usr/local/lib/python3.6/dist-packages/ipykernel/zmqshell.py\", line 533, in run_cell\n    return super(ZMQInteractiveShell, self).run_cell(*args, **kwargs)\n  File \"/usr/local/lib/python3.6/dist-packages/IPython/core/interactiveshell.py\", line 2718, in run_cell\n    interactivity=interactivity, compiler=compiler, result=result)\n  File \"/usr/local/lib/python3.6/dist-packages/IPython/core/interactiveshell.py\", line 2822, in run_ast_nodes\n    if self.run_code(code, result):\n  File \"/usr/local/lib/python3.6/dist-packages/IPython/core/interactiveshell.py\", line 2882, in run_code\n    exec(code_obj, self.user_global_ns, self.user_ns)\n  File \"<ipython-input-9-3122460988eb>\", line 5, in <module>\n    outlayer = tf.nn.conv2d(outlayer, weights_l3, [1,1,1,1], padding=\"SAME\")\n  File \"/usr/local/lib/python3.6/dist-packages/tensorflow/python/ops/gen_nn_ops.py\", line 956, in conv2d\n    data_format=data_format, dilations=dilations, name=name)\n  File \"/usr/local/lib/python3.6/dist-packages/tensorflow/python/framework/op_def_library.py\", line 787, in _apply_op_helper\n    op_def=op_def)\n  File \"/usr/local/lib/python3.6/dist-packages/tensorflow/python/util/deprecation.py\", line 454, in new_func\n    return func(*args, **kwargs)\n  File \"/usr/local/lib/python3.6/dist-packages/tensorflow/python/framework/ops.py\", line 3155, in create_op\n    op_def=op_def)\n  File \"/usr/local/lib/python3.6/dist-packages/tensorflow/python/framework/ops.py\", line 1717, in __init__\n    self._traceback = tf_stack.extract_stack()\n\nResourceExhaustedError (see above for traceback): OOM when allocating tensor with shape[128,224,224,128] and type float on /job:localhost/replica:0/task:0/device:GPU:0 by allocator GPU_0_bfc\n\t [[Node: Conv2D_2 = Conv2D[T=DT_FLOAT, data_format=\"NHWC\", dilations=[1, 1, 1, 1], padding=\"SAME\", strides=[1, 1, 1, 1], use_cudnn_on_gpu=true, _device=\"/job:localhost/replica:0/task:0/device:GPU:0\"](Relu_1, Variable_4/read)]]\nHint: If you want to see a list of allocated tensors when OOM happens, add report_tensor_allocations_upon_oom to RunOptions for current allocation info.\n\n\t [[Node: Sum/_11 = _Recv[client_terminated=false, recv_device=\"/job:localhost/replica:0/task:0/device:CPU:0\", send_device=\"/job:localhost/replica:0/task:0/device:GPU:0\", send_device_incarnation=1, tensor_name=\"edge_170_Sum\", tensor_type=DT_FLOAT, _device=\"/job:localhost/replica:0/task:0/device:CPU:0\"]()]]\nHint: If you want to see a list of allocated tensors when OOM happens, add report_tensor_allocations_upon_oom to RunOptions for current allocation info.\n\n"
          ]
        }
      ]
    }
  ]
}