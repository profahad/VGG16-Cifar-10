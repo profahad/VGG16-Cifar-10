{
  "nbformat": 4,
  "nbformat_minor": 0,
  "metadata": {
    "colab": {
      "name": "VGG16.ipynb",
      "version": "0.3.2",
      "provenance": [],
      "collapsed_sections": []
    },
    "kernelspec": {
      "name": "python3",
      "display_name": "Python 3"
    },
    "accelerator": "GPU"
  },
  "cells": [
    {
      "metadata": {
        "id": "cr7oB5zW9Yio",
        "colab_type": "code",
        "colab": {}
      },
      "cell_type": "code",
      "source": [
        "!wget \"https://www.cs.toronto.edu/~kriz/cifar-10-python.tar.gz\""
      ],
      "execution_count": 0,
      "outputs": []
    },
    {
      "metadata": {
        "id": "57xcXSlmE0Ov",
        "colab_type": "code",
        "colab": {}
      },
      "cell_type": "code",
      "source": [
        "!apt-get -qq install -y libsm6 libxext6 && pip install -q -U opencv-python"
      ],
      "execution_count": 0,
      "outputs": []
    },
    {
      "metadata": {
        "id": "6BaF16AUAguY",
        "colab_type": "code",
        "colab": {}
      },
      "cell_type": "code",
      "source": [
        "!tar -xf 'cifar-10-python.tar.gz'"
      ],
      "execution_count": 0,
      "outputs": []
    },
    {
      "metadata": {
        "id": "bHWWwOHC-Tli",
        "colab_type": "code",
        "colab": {
          "base_uri": "https://localhost:8080/",
          "height": 34
        },
        "outputId": "a36c7fb0-d2cc-49d2-e7d7-fdc9d5479725"
      },
      "cell_type": "code",
      "source": [
        "# !cd cifar-10-batches-py\n",
        "# cd cifar-10-batches-py/\n",
        "# !pwd\n",
        "# cd data_batch_1\n",
        "# cd ../..\n",
        "ls"
      ],
      "execution_count": 1,
      "outputs": [
        {
          "output_type": "stream",
          "text": [
            "\u001b[0m\u001b[01;34mcifar-10-batches-py\u001b[0m/  cifar-10-python.tar.gz  \u001b[01;34mdatalab\u001b[0m/\r\n"
          ],
          "name": "stdout"
        }
      ]
    },
    {
      "metadata": {
        "id": "ac1CuMliDDg_",
        "colab_type": "code",
        "colab": {}
      },
      "cell_type": "code",
      "source": [
        "def processImages(images):\n",
        "  pro_data = []\n",
        "  for i in range(len(images)):\n",
        "    img_R = images[i][0:1024].reshape((32, 32))\n",
        "    img_G = images[i][1024:2048].reshape((32, 32))\n",
        "    img_B = images[i][2048:3072].reshape((32, 32))\n",
        "    img = np.dstack((img_R, img_G, img_B))\n",
        "    r_img = cv2.resize(img, (224,224))\n",
        "    pro_data.append(r_img)\n",
        "  return np.array(pro_data)\n"
      ],
      "execution_count": 0,
      "outputs": []
    },
    {
      "metadata": {
        "id": "jKtK15Xq9mPK",
        "colab_type": "code",
        "colab": {}
      },
      "cell_type": "code",
      "source": [
        "import pickle\n",
        "import numpy as np\n",
        "import cv2\n",
        "file = '/content/cifar-10-batches-py/data_batch_1'\n",
        "with open(file, 'rb') as fo:\n",
        "  dict = pickle.load(fo, encoding='latin1')"
      ],
      "execution_count": 0,
      "outputs": []
    },
    {
      "metadata": {
        "id": "uyM4sLDhCL5M",
        "colab_type": "code",
        "colab": {
          "base_uri": "https://localhost:8080/",
          "height": 34
        },
        "outputId": "90a22b95-2c8f-4862-a8ae-35edf94c1796"
      },
      "cell_type": "code",
      "source": [
        "from keras.utils import to_categorical\n",
        "from sklearn.utils import shuffle\n",
        "imageTrain, encodedTrain = shuffle(processImages(dict['data']),to_categorical(dict['labels']))"
      ],
      "execution_count": 4,
      "outputs": [
        {
          "output_type": "stream",
          "text": [
            "Using TensorFlow backend.\n"
          ],
          "name": "stderr"
        }
      ]
    },
    {
      "metadata": {
        "id": "abrB6LpbEn7e",
        "colab_type": "code",
        "colab": {
          "base_uri": "https://localhost:8080/",
          "height": 367
        },
        "outputId": "dc4ee72f-ab55-4fca-b76b-7804d9336dfd"
      },
      "cell_type": "code",
      "source": [
        "import matplotlib.pyplot as plt\n",
        "import tensorflow as tf\n",
        "\n",
        "rnd = np.random.randint(0,len(imageTrain))\n",
        "plt.imshow(imageTrain[rnd]/255.0)\n",
        "plt.show()\n",
        "# print(sess.run(tf.argmax(encodedTrain[rnd])))\n",
        "print(imageTrain[rnd].shape)\n",
        " "
      ],
      "execution_count": 6,
      "outputs": [
        {
          "output_type": "display_data",
          "data": {
            "image/png": "[encoded data removed]",
            "text/plain": [
              "<matplotlib.figure.Figure at 0x7fd784fcb0b8>"
            ]
          },
          "metadata": {
            "tags": []
          }
        },
        {
          "output_type": "stream",
          "text": [
            "(224, 224, 3)\n"
          ],
          "name": "stdout"
        }
      ]
    },
    {
      "metadata": {
        "id": "HLBWIH2xys5K",
        "colab_type": "code",
        "colab": {}
      },
      "cell_type": "code",
      "source": [
        "n_classes = 10\n",
        "diemension = 3\n",
        "mu = 0\n",
        "sigma = 0.1\n",
        "\n",
        "\n",
        "x = tf.placeholder(tf.float32,shape=[None,224,224,3])\n",
        "y = tf.placeholder(tf.float32,shape=[None,n_classes])\n"
      ],
      "execution_count": 0,
      "outputs": []
    },
    {
      "metadata": {
        "id": "mRBVzm7w2cnn",
        "colab_type": "code",
        "colab": {
          "base_uri": "https://localhost:8080/",
          "height": 34
        },
        "outputId": "c00e5f78-5f6e-4da1-d9e7-be67f73b9c42"
      },
      "cell_type": "code",
      "source": [
        "# Convolution 1\n",
        "weights_l1 = tf.Variable(tf.truncated_normal([3,3,3,64], mean=mu , stddev=sigma))\n",
        "biases_l1 = tf.Variable(tf.truncated_normal([64]))\n",
        "\n",
        "outlayer = tf.nn.conv2d(x, weights_l1, [1,1,1,1], padding=\"SAME\")\n",
        "outlayer += biases_l1\n",
        "outlayer = tf.nn.relu(outlayer)\n",
        "print(outlayer)"
      ],
      "execution_count": 8,
      "outputs": [
        {
          "output_type": "stream",
          "text": [
            "Tensor(\"Relu:0\", shape=(?, 224, 224, 64), dtype=float32)\n"
          ],
          "name": "stdout"
        }
      ]
    },
    {
      "metadata": {
        "id": "fFwgysqH2hs4",
        "colab_type": "code",
        "colab": {
          "base_uri": "https://localhost:8080/",
          "height": 34
        },
        "outputId": "1d9fef47-7c01-4f4d-d1f7-79b907501eff"
      },
      "cell_type": "code",
      "source": [
        "# Convolution 2\n",
        "weights_l2 = tf.Variable(tf.truncated_normal([3,3,64,64], mean=mu , stddev=sigma))\n",
        "biases_l2 = tf.Variable(tf.truncated_normal([64]))\n",
        "\n",
        "\n",
        "outlayer = tf.nn.conv2d(outlayer, weights_l2, [1,1,1,1], padding=\"SAME\")\n",
        "outlayer += biases_l2\n",
        "outlayer = tf.nn.relu(outlayer)\n",
        "print(outlayer)"
      ],
      "execution_count": 9,
      "outputs": [
        {
          "output_type": "stream",
          "text": [
            "Tensor(\"Relu_1:0\", shape=(?, 224, 224, 64), dtype=float32)\n"
          ],
          "name": "stdout"
        }
      ]
    },
    {
      "metadata": {
        "id": "djW-20Zj5RbQ",
        "colab_type": "code",
        "colab": {
          "base_uri": "https://localhost:8080/",
          "height": 34
        },
        "outputId": "d89d5153-5701-4ee3-f3ca-45cb5cb77390"
      },
      "cell_type": "code",
      "source": [
        "# MaxPooling 1\n",
        "outlayer = tf.nn.max_pool(outlayer, ksize=[1,2,2,1], strides=[1,2,2,1], padding=\"VALID\")\n",
        "print(outlayer)"
      ],
      "execution_count": 10,
      "outputs": [
        {
          "output_type": "stream",
          "text": [
            "Tensor(\"MaxPool:0\", shape=(?, 112, 112, 64), dtype=float32)\n"
          ],
          "name": "stdout"
        }
      ]
    },
    {
      "metadata": {
        "id": "wvsV8Yw4G130",
        "colab_type": "code",
        "colab": {
          "base_uri": "https://localhost:8080/",
          "height": 34
        },
        "outputId": "52d18f19-c2b2-456e-b151-6973e26864af"
      },
      "cell_type": "code",
      "source": [
        "# Convolution 3\n",
        "weights_l3 = tf.Variable(tf.truncated_normal([3,3,64,128], mean=mu , stddev=sigma))\n",
        "biases_l3 = tf.Variable(tf.truncated_normal([128]))\n",
        "\n",
        "\n",
        "outlayer = tf.nn.conv2d(outlayer, weights_l3, [1,1,1,1], padding=\"SAME\")\n",
        "outlayer += biases_l3\n",
        "outlayer = tf.nn.relu(outlayer)\n",
        "print(outlayer)"
      ],
      "execution_count": 11,
      "outputs": [
        {
          "output_type": "stream",
          "text": [
            "Tensor(\"Relu_2:0\", shape=(?, 112, 112, 128), dtype=float32)\n"
          ],
          "name": "stdout"
        }
      ]
    },
    {
      "metadata": {
        "id": "eu17vsCVF-s_",
        "colab_type": "code",
        "colab": {
          "base_uri": "https://localhost:8080/",
          "height": 34
        },
        "outputId": "cf92bd3c-0775-46c0-b841-85521131005e"
      },
      "cell_type": "code",
      "source": [
        "# Convolution 4\n",
        "weights_l4 = tf.Variable(tf.truncated_normal([3,3,128,128], mean=mu , stddev=sigma))\n",
        "biases_l4 = tf.Variable(tf.truncated_normal([128]))\n",
        "\n",
        "\n",
        "outlayer = tf.nn.conv2d(outlayer, weights_l4, [1,1,1,1], padding=\"SAME\")\n",
        "outlayer += biases_l4\n",
        "outlayer = tf.nn.relu(outlayer)\n",
        "print(outlayer)"
      ],
      "execution_count": 12,
      "outputs": [
        {
          "output_type": "stream",
          "text": [
            "Tensor(\"Relu_3:0\", shape=(?, 112, 112, 128), dtype=float32)\n"
          ],
          "name": "stdout"
        }
      ]
    },
    {
      "metadata": {
        "id": "LKgpTJ-xQp2z",
        "colab_type": "code",
        "colab": {
          "base_uri": "https://localhost:8080/",
          "height": 34
        },
        "outputId": "133332a8-00b0-4947-f912-295150991cd4"
      },
      "cell_type": "code",
      "source": [
        "# MaxPooling 2\n",
        "outlayer = tf.nn.max_pool(outlayer, ksize=[1,2,2,1], strides=[1,2,2,1], padding=\"VALID\")\n",
        "print(outlayer)"
      ],
      "execution_count": 13,
      "outputs": [
        {
          "output_type": "stream",
          "text": [
            "Tensor(\"MaxPool_1:0\", shape=(?, 56, 56, 128), dtype=float32)\n"
          ],
          "name": "stdout"
        }
      ]
    },
    {
      "metadata": {
        "id": "cM_BKP9eU69m",
        "colab_type": "text"
      },
      "cell_type": "markdown",
      "source": [
        "### **Convolutional Layer 3**"
      ]
    },
    {
      "metadata": {
        "id": "SdzbDXcgSQeB",
        "colab_type": "code",
        "colab": {
          "base_uri": "https://localhost:8080/",
          "height": 34
        },
        "outputId": "e0d6a810-7717-4611-bdef-50bbd27ca02e"
      },
      "cell_type": "code",
      "source": [
        "# Convolution 5\n",
        "weights_l5 = tf.Variable(tf.truncated_normal([3,3,128,256], mean=mu , stddev=sigma))\n",
        "biases_l5 = tf.Variable(tf.truncated_normal([256]))\n",
        "\n",
        "\n",
        "outlayer = tf.nn.conv2d(outlayer, weights_l5, [1,1,1,1], padding=\"SAME\")\n",
        "outlayer += biases_l5\n",
        "outlayer = tf.nn.relu(outlayer)\n",
        "print(outlayer)"
      ],
      "execution_count": 14,
      "outputs": [
        {
          "output_type": "stream",
          "text": [
            "Tensor(\"Relu_4:0\", shape=(?, 56, 56, 256), dtype=float32)\n"
          ],
          "name": "stdout"
        }
      ]
    },
    {
      "metadata": {
        "id": "M5JwfC-CTJ9_",
        "colab_type": "code",
        "colab": {
          "base_uri": "https://localhost:8080/",
          "height": 34
        },
        "outputId": "4751d64d-fe86-4219-907c-be8da05d9603"
      },
      "cell_type": "code",
      "source": [
        "# Convolution 6\n",
        "weights_l6 = tf.Variable(tf.truncated_normal([3,3,256,256], mean=mu , stddev=sigma))\n",
        "biases_l6 = tf.Variable(tf.truncated_normal([256]))\n",
        "\n",
        "\n",
        "outlayer = tf.nn.conv2d(outlayer, weights_l6, [1,1,1,1], padding=\"SAME\")\n",
        "outlayer += biases_l6\n",
        "outlayer = tf.nn.relu(outlayer)\n",
        "print(outlayer)"
      ],
      "execution_count": 15,
      "outputs": [
        {
          "output_type": "stream",
          "text": [
            "Tensor(\"Relu_5:0\", shape=(?, 56, 56, 256), dtype=float32)\n"
          ],
          "name": "stdout"
        }
      ]
    },
    {
      "metadata": {
        "id": "lmOKIC5SSWqz",
        "colab_type": "code",
        "colab": {
          "base_uri": "https://localhost:8080/",
          "height": 34
        },
        "outputId": "d4bb54b3-0099-41ee-dbdb-4c0e2effb720"
      },
      "cell_type": "code",
      "source": [
        "# Convolution 7\n",
        "weights_l7 = tf.Variable(tf.truncated_normal([3,3,256,256], mean=mu , stddev=sigma))\n",
        "biases_l7 = tf.Variable(tf.truncated_normal([256]))\n",
        "\n",
        "\n",
        "outlayer = tf.nn.conv2d(outlayer, weights_l7, [1,1,1,1], padding=\"SAME\")\n",
        "outlayer += biases_l7\n",
        "outlayer = tf.nn.relu(outlayer)\n",
        "print(outlayer)"
      ],
      "execution_count": 16,
      "outputs": [
        {
          "output_type": "stream",
          "text": [
            "Tensor(\"Relu_6:0\", shape=(?, 56, 56, 256), dtype=float32)\n"
          ],
          "name": "stdout"
        }
      ]
    },
    {
      "metadata": {
        "id": "Rb0MYD0MVRCk",
        "colab_type": "code",
        "colab": {
          "base_uri": "https://localhost:8080/",
          "height": 34
        },
        "outputId": "84895910-c328-44f1-abb4-b9c0876b8208"
      },
      "cell_type": "code",
      "source": [
        "# MaxPooling 1\n",
        "outlayer = tf.nn.max_pool(outlayer, ksize=[1,2,2,1], strides=[1,2,2,1], padding=\"VALID\")\n",
        "print(outlayer)"
      ],
      "execution_count": 17,
      "outputs": [
        {
          "output_type": "stream",
          "text": [
            "Tensor(\"MaxPool_2:0\", shape=(?, 28, 28, 256), dtype=float32)\n"
          ],
          "name": "stdout"
        }
      ]
    },
    {
      "metadata": {
        "id": "LYnpe_GNVslH",
        "colab_type": "text"
      },
      "cell_type": "markdown",
      "source": [
        "### **Convolutional 4**"
      ]
    },
    {
      "metadata": {
        "id": "lVIyhMFIVhy2",
        "colab_type": "code",
        "colab": {
          "base_uri": "https://localhost:8080/",
          "height": 34
        },
        "outputId": "984014ba-bc96-4c12-b8be-d331888c6ae8"
      },
      "cell_type": "code",
      "source": [
        "# Convolution 8\n",
        "weights_l8 = tf.Variable(tf.truncated_normal([3,3,256,512], mean=mu , stddev=sigma))\n",
        "biases_l8 = tf.Variable(tf.truncated_normal([512]))\n",
        "\n",
        "\n",
        "outlayer = tf.nn.conv2d(outlayer, weights_l8, [1,1,1,1], padding=\"SAME\")\n",
        "outlayer += biases_l8\n",
        "outlayer = tf.nn.relu(outlayer)\n",
        "print(outlayer)"
      ],
      "execution_count": 18,
      "outputs": [
        {
          "output_type": "stream",
          "text": [
            "Tensor(\"Relu_7:0\", shape=(?, 28, 28, 512), dtype=float32)\n"
          ],
          "name": "stdout"
        }
      ]
    },
    {
      "metadata": {
        "id": "k2VDBr49WCwF",
        "colab_type": "code",
        "colab": {
          "base_uri": "https://localhost:8080/",
          "height": 34
        },
        "outputId": "c70a0d64-7e17-4259-a382-ef35a18022b2"
      },
      "cell_type": "code",
      "source": [
        "# Convolution 9\n",
        "weights_l9 = tf.Variable(tf.truncated_normal([3,3,512,512], mean=mu , stddev=sigma))\n",
        "biases_l9 = tf.Variable(tf.truncated_normal([512]))\n",
        "\n",
        "\n",
        "outlayer = tf.nn.conv2d(outlayer, weights_l9, [1,1,1,1], padding=\"SAME\")\n",
        "outlayer += biases_l9\n",
        "outlayer = tf.nn.relu(outlayer)\n",
        "print(outlayer)"
      ],
      "execution_count": 19,
      "outputs": [
        {
          "output_type": "stream",
          "text": [
            "Tensor(\"Relu_8:0\", shape=(?, 28, 28, 512), dtype=float32)\n"
          ],
          "name": "stdout"
        }
      ]
    },
    {
      "metadata": {
        "id": "1hBtgxjUWTg2",
        "colab_type": "code",
        "colab": {
          "base_uri": "https://localhost:8080/",
          "height": 34
        },
        "outputId": "3bc7d8e7-e046-4230-f822-07540973e98d"
      },
      "cell_type": "code",
      "source": [
        "# Convolution 10\n",
        "weights_l10 = tf.Variable(tf.truncated_normal([3,3,512,512], mean=mu , stddev=sigma))\n",
        "biases_l10 = tf.Variable(tf.truncated_normal([512]))\n",
        "\n",
        "\n",
        "outlayer = tf.nn.conv2d(outlayer, weights_l10, [1,1,1,1], padding=\"SAME\")\n",
        "outlayer += biases_l10\n",
        "outlayer = tf.nn.relu(outlayer)\n",
        "print(outlayer)"
      ],
      "execution_count": 20,
      "outputs": [
        {
          "output_type": "stream",
          "text": [
            "Tensor(\"Relu_9:0\", shape=(?, 28, 28, 512), dtype=float32)\n"
          ],
          "name": "stdout"
        }
      ]
    },
    {
      "metadata": {
        "id": "cBX7u0vaWbHP",
        "colab_type": "code",
        "colab": {
          "base_uri": "https://localhost:8080/",
          "height": 34
        },
        "outputId": "669c9e4b-dc2a-4e39-8bac-c395818eb85d"
      },
      "cell_type": "code",
      "source": [
        "# MaxPooling 4\n",
        "outlayer = tf.nn.max_pool(outlayer, ksize=[1,2,2,1], strides=[1,2,2,1], padding=\"VALID\")\n",
        "print(outlayer)"
      ],
      "execution_count": 21,
      "outputs": [
        {
          "output_type": "stream",
          "text": [
            "Tensor(\"MaxPool_3:0\", shape=(?, 14, 14, 512), dtype=float32)\n"
          ],
          "name": "stdout"
        }
      ]
    },
    {
      "metadata": {
        "id": "_N7cyGiQWwdf",
        "colab_type": "text"
      },
      "cell_type": "markdown",
      "source": [
        "### **Colvolutional 5**"
      ]
    },
    {
      "metadata": {
        "id": "OvCOA0lhW2Vr",
        "colab_type": "code",
        "colab": {
          "base_uri": "https://localhost:8080/",
          "height": 34
        },
        "outputId": "b1689876-4fb2-4c59-c870-e49a6fb22d85"
      },
      "cell_type": "code",
      "source": [
        "# Convolution 11\n",
        "weights_l11 = tf.Variable(tf.truncated_normal([3,3,512,512], mean=mu , stddev=sigma))\n",
        "biases_l11 = tf.Variable(tf.truncated_normal([512]))\n",
        "\n",
        "\n",
        "outlayer = tf.nn.conv2d(outlayer, weights_l11, [1,1,1,1], padding=\"SAME\")\n",
        "outlayer += biases_l11\n",
        "outlayer = tf.nn.relu(outlayer)\n",
        "print(outlayer)"
      ],
      "execution_count": 22,
      "outputs": [
        {
          "output_type": "stream",
          "text": [
            "Tensor(\"Relu_10:0\", shape=(?, 14, 14, 512), dtype=float32)\n"
          ],
          "name": "stdout"
        }
      ]
    },
    {
      "metadata": {
        "id": "B-Nl1tH9XK43",
        "colab_type": "code",
        "colab": {
          "base_uri": "https://localhost:8080/",
          "height": 34
        },
        "outputId": "2ac24b67-feb7-44c3-80a4-3b8e46e3512c"
      },
      "cell_type": "code",
      "source": [
        "# Convolution 12\n",
        "weights_l12 = tf.Variable(tf.truncated_normal([3,3,512,512], mean=mu , stddev=sigma))\n",
        "biases_l12 = tf.Variable(tf.truncated_normal([512]))\n",
        "\n",
        "\n",
        "outlayer = tf.nn.conv2d(outlayer, weights_l12, [1,1,1,1], padding=\"SAME\")\n",
        "outlayer += biases_l12\n",
        "outlayer = tf.nn.relu(outlayer)\n",
        "print(outlayer)"
      ],
      "execution_count": 23,
      "outputs": [
        {
          "output_type": "stream",
          "text": [
            "Tensor(\"Relu_11:0\", shape=(?, 14, 14, 512), dtype=float32)\n"
          ],
          "name": "stdout"
        }
      ]
    },
    {
      "metadata": {
        "id": "vfVfq-mOXOTF",
        "colab_type": "code",
        "colab": {
          "base_uri": "https://localhost:8080/",
          "height": 34
        },
        "outputId": "643cfdbc-7bdc-4a1e-fe23-592d5799ce7b"
      },
      "cell_type": "code",
      "source": [
        "# Convolution 13\n",
        "weights_l13 = tf.Variable(tf.truncated_normal([3,3,512,512], mean=mu , stddev=sigma))\n",
        "biases_l13 = tf.Variable(tf.truncated_normal([512]))\n",
        "\n",
        "\n",
        "outlayer = tf.nn.conv2d(outlayer, weights_l13, [1,1,1,1], padding=\"SAME\")\n",
        "outlayer += biases_l13\n",
        "outlayer = tf.nn.relu(outlayer)\n",
        "print(outlayer)"
      ],
      "execution_count": 24,
      "outputs": [
        {
          "output_type": "stream",
          "text": [
            "Tensor(\"Relu_12:0\", shape=(?, 14, 14, 512), dtype=float32)\n"
          ],
          "name": "stdout"
        }
      ]
    },
    {
      "metadata": {
        "id": "IMkwJCTLXS9e",
        "colab_type": "code",
        "colab": {
          "base_uri": "https://localhost:8080/",
          "height": 34
        },
        "outputId": "424797d2-911a-4026-b104-4eaaa1cb1839"
      },
      "cell_type": "code",
      "source": [
        "# MaxPooling 5\n",
        "outlayer = tf.nn.max_pool(outlayer, ksize=[1,2,2,1], strides=[1,2,2,1], padding=\"VALID\")\n",
        "print(outlayer)"
      ],
      "execution_count": 25,
      "outputs": [
        {
          "output_type": "stream",
          "text": [
            "Tensor(\"MaxPool_4:0\", shape=(?, 7, 7, 512), dtype=float32)\n"
          ],
          "name": "stdout"
        }
      ]
    },
    {
      "metadata": {
        "id": "dy0yoHxUYHhh",
        "colab_type": "text"
      },
      "cell_type": "markdown",
      "source": [
        "### **Flatting Neuron**"
      ]
    },
    {
      "metadata": {
        "id": "STq2XC6sXVG2",
        "colab_type": "code",
        "colab": {
          "base_uri": "https://localhost:8080/",
          "height": 34
        },
        "outputId": "49dda5d6-fd7c-4076-d91a-4744a2ee8555"
      },
      "cell_type": "code",
      "source": [
        "# Flatting \n",
        "flattened = tf.reshape(outlayer, [-1, 7*7*512])\n",
        "print(flattened)"
      ],
      "execution_count": 26,
      "outputs": [
        {
          "output_type": "stream",
          "text": [
            "Tensor(\"Reshape:0\", shape=(?, 25088), dtype=float32)\n"
          ],
          "name": "stdout"
        }
      ]
    },
    {
      "metadata": {
        "id": "W5ISPMaecIKD",
        "colab_type": "text"
      },
      "cell_type": "markdown",
      "source": [
        "### **FC LAYERS**"
      ]
    },
    {
      "metadata": {
        "id": "ZbcYgW61cLa0",
        "colab_type": "code",
        "colab": {
          "base_uri": "https://localhost:8080/",
          "height": 34
        },
        "outputId": "cf771f12-f83e-493c-b95c-dac5f7726889"
      },
      "cell_type": "code",
      "source": [
        "#FC 1 \n",
        "wd1 = tf.Variable(tf.truncated_normal([7*7*512 , 4096], mean=mu , stddev=sigma))\n",
        "bd1 = tf.Variable(tf.truncated_normal([4096]))\n",
        "\n",
        "outlayer = tf.matmul(flattened, wd1) + bd1\n",
        "outlayer = tf.nn.relu(outlayer)\n",
        "print(outlayer)"
      ],
      "execution_count": 27,
      "outputs": [
        {
          "output_type": "stream",
          "text": [
            "Tensor(\"Relu_13:0\", shape=(?, 4096), dtype=float32)\n"
          ],
          "name": "stdout"
        }
      ]
    },
    {
      "metadata": {
        "id": "2WoBcOSTcax9",
        "colab_type": "code",
        "colab": {
          "base_uri": "https://localhost:8080/",
          "height": 34
        },
        "outputId": "617a1c1c-42b2-4fec-d2db-b93179c0dcf6"
      },
      "cell_type": "code",
      "source": [
        "#FC 2\n",
        "wd2 = tf.Variable(tf.truncated_normal([4096 , 4096], mean=mu , stddev=sigma))\n",
        "bd2 = tf.Variable(tf.truncated_normal([4096]))\n",
        "\n",
        "outlayer = tf.matmul(outlayer, wd2) + bd2\n",
        "outlayer = tf.nn.relu(outlayer)\n",
        "print(outlayer)"
      ],
      "execution_count": 28,
      "outputs": [
        {
          "output_type": "stream",
          "text": [
            "Tensor(\"Relu_14:0\", shape=(?, 4096), dtype=float32)\n"
          ],
          "name": "stdout"
        }
      ]
    },
    {
      "metadata": {
        "id": "yOxvq9gdgVDH",
        "colab_type": "code",
        "colab": {
          "base_uri": "https://localhost:8080/",
          "height": 34
        },
        "outputId": "fa537808-bee5-4fd8-9baf-00f21eb30d4d"
      },
      "cell_type": "code",
      "source": [
        "#Output Layer\n",
        "wd0 = tf.Variable(tf.truncated_normal([4096, 10], mean=mu , stddev=sigma))\n",
        "bd0 = tf.Variable(tf.truncated_normal([10]))\n",
        "outlayer = tf.matmul(outlayer, wd0) + bd0\n",
        "outlayer = tf.nn.relu(outlayer)\n",
        "print(outlayer)"
      ],
      "execution_count": 29,
      "outputs": [
        {
          "output_type": "stream",
          "text": [
            "Tensor(\"Relu_15:0\", shape=(?, 10), dtype=float32)\n"
          ],
          "name": "stdout"
        }
      ]
    },
    {
      "metadata": {
        "id": "Lp-Wx9uEclDV",
        "colab_type": "code",
        "colab": {
          "base_uri": "https://localhost:8080/",
          "height": 173
        },
        "outputId": "5cfafef9-cd68-4d10-a50f-8843e7be20b3"
      },
      "cell_type": "code",
      "source": [
        "pred = tf.nn.softmax(outlayer)\n",
        "\n",
        "loss = tf.reduce_mean(tf.nn.softmax_cross_entropy_with_logits(labels=y, logits=outlayer))\n",
        "optimizer = tf.train.AdamOptimizer(0.001) # learning rate\n",
        "train = optimizer.minimize(loss)\n",
        "correct_prediction = tf.equal(tf.argmax(y, 1), tf.argmax(pred, 1))\n",
        "total_prediction = tf.reduce_sum(tf.cast(correct_prediction, tf.float32))\n",
        "accuracy = tf.reduce_mean(tf.cast(correct_prediction, tf.float32))"
      ],
      "execution_count": 30,
      "outputs": [
        {
          "output_type": "stream",
          "text": [
            "WARNING:tensorflow:From <ipython-input-30-af10e9fb8821>:3: softmax_cross_entropy_with_logits (from tensorflow.python.ops.nn_ops) is deprecated and will be removed in a future version.\n",
            "Instructions for updating:\n",
            "\n",
            "Future major versions of TensorFlow will allow gradients to flow\n",
            "into the labels input on backprop by default.\n",
            "\n",
            "See @{tf.nn.softmax_cross_entropy_with_logits_v2}.\n",
            "\n"
          ],
          "name": "stdout"
        }
      ]
    },
    {
      "metadata": {
        "id": "IzR_CEsD2zlm",
        "colab_type": "code",
        "colab": {}
      },
      "cell_type": "code",
      "source": [
        ""
      ],
      "execution_count": 0,
      "outputs": []
    },
    {
      "metadata": {
        "id": "NATu-0tNdFYV",
        "colab_type": "code",
        "colab": {}
      },
      "cell_type": "code",
      "source": [
        "sess = tf.InteractiveSession()\n",
        "tf.global_variables_initializer().run()"
      ],
      "execution_count": 0,
      "outputs": []
    },
    {
      "metadata": {
        "id": "cjQFbRZYedJK",
        "colab_type": "text"
      },
      "cell_type": "markdown",
      "source": [
        "### **Training**"
      ]
    },
    {
      "metadata": {
        "id": "Y-dFUetSeacD",
        "colab_type": "code",
        "colab": {}
      },
      "cell_type": "code",
      "source": [
        "def trainModel_v2():\n",
        "  batch_size = 128\n",
        "  for epoch in range(20):\n",
        "    epoch_loss = 0 \n",
        "    total_accuracy = 0\n",
        "    for offset in range(0, len(imageTrain), batch_size):\n",
        "      end = offset + batch_size\n",
        "      batch_x = imageTrain[offset:end]\n",
        "      batch_y = encodedTrain[offset:end]\n",
        "      accuracy_in_batch = sess.run(total_prediction, feed_dict={x: batch_x, y: batch_y})\n",
        "      print(accuracy_in_batch)\n",
        "#       total_accuracy += accuracy_in_batch\n",
        "#     print(\"Epoch \",epoch, \" Epoch Loss \",epoch_loss, \" Accuracy Total \", total_accuracy/len(imageTrain) * 100)\n",
        "\n",
        "\n",
        "def trainModel_v1():\n",
        "  batch_size = 100\n",
        "  for epoch in range(20):\n",
        "    epoch_loss = 0 \n",
        "    total_accuracy = 0\n",
        "    for offset in range(0, len(imageTrain), batch_size):\n",
        "      end = offset + batch_size\n",
        "      batch_x = imageTrain[offset:end]\n",
        "      batch_y = encodedTrain[offset:end]\n",
        "      c = sess.run(loss, feed_dict={x: batch_x, y: batch_y})\n",
        "      accuracy_in_batch = sess.run(total_prediction, feed_dict={x: batch_x, y: batch_y})\n",
        "      total_accuracy += accuracy_in_batch\n",
        "      epoch_loss += c\n",
        "      print(c)\n",
        "      print(accuracy_in_batch)\n",
        "    print(\"Epoch \",epoch, \" Epoch Loss \",epoch_loss, \" Accuracy Total \", total_accuracy/len(imageTrain) * 100)\n",
        "#       print(sess.run(pred, feed_dict={x: batch_x}))\n",
        "#       print(sess.run(correct_prediction, feed_dict={x: batch_x, y: batch_y}))"
      ],
      "execution_count": 0,
      "outputs": []
    },
    {
      "metadata": {
        "id": "zeHXoHxPfSea",
        "colab_type": "code",
        "colab": {
          "base_uri": "https://localhost:8080/",
          "height": 3910
        },
        "outputId": "3a97ae99-09c2-40c2-df0e-93f17689bbb7"
      },
      "cell_type": "code",
      "source": [
        "# trainModel_v2()\n",
        "trainModel_v1()"
      ],
      "execution_count": 0,
      "outputs": [
        {
          "output_type": "stream",
          "text": [
            "6687199000.0\n",
            "7.0\n",
            "6304829400.0\n",
            "12.0\n",
            "6004825600.0\n",
            "15.0\n",
            "6916346400.0\n",
            "7.0\n",
            "6489826300.0\n",
            "10.0\n",
            "6183754000.0\n",
            "8.0\n",
            "6453056500.0\n",
            "5.0\n",
            "7107479000.0\n",
            "8.0\n",
            "6411544600.0\n",
            "6.0\n",
            "6234994000.0\n",
            "11.0\n",
            "6881539600.0\n",
            "7.0\n",
            "6362880500.0\n",
            "9.0\n",
            "6339646500.0\n",
            "12.0\n",
            "6739624400.0\n",
            "9.0\n",
            "6415550000.0\n",
            "12.0\n",
            "6588172000.0\n",
            "9.0\n",
            "6867271700.0\n",
            "8.0\n",
            "6327678000.0\n",
            "9.0\n",
            "6415002600.0\n",
            "9.0\n",
            "6839048700.0\n",
            "7.0\n",
            "5803084300.0\n",
            "12.0\n",
            "6323136500.0\n",
            "13.0\n",
            "6233414000.0\n",
            "10.0\n",
            "6126019600.0\n",
            "8.0\n",
            "5687059500.0\n",
            "17.0\n",
            "6173156000.0\n",
            "14.0\n",
            "6455141000.0\n",
            "13.0\n",
            "6043236400.0\n",
            "13.0\n",
            "6581269500.0\n",
            "9.0\n",
            "6600678000.0\n",
            "8.0\n",
            "6269714000.0\n",
            "12.0\n",
            "6548354000.0\n",
            "9.0\n",
            "6818983400.0\n",
            "6.0\n",
            "6289467400.0\n",
            "12.0\n",
            "6499048000.0\n",
            "8.0\n",
            "6168257500.0\n",
            "13.0\n",
            "6958307300.0\n",
            "2.0\n",
            "6496429600.0\n",
            "7.0\n",
            "6086956000.0\n",
            "12.0\n",
            "6513541600.0\n",
            "10.0\n",
            "6084230700.0\n",
            "11.0\n",
            "6088430600.0\n",
            "13.0\n",
            "6006828000.0\n",
            "14.0\n",
            "5959425000.0\n",
            "14.0\n",
            "6748320000.0\n",
            "6.0\n",
            "6405858300.0\n",
            "7.0\n",
            "6760024000.0\n",
            "5.0\n",
            "6188456000.0\n",
            "11.0\n",
            "6358263000.0\n",
            "9.0\n",
            "6576889000.0\n",
            "7.0\n",
            "6441650700.0\n",
            "9.0\n",
            "6275249700.0\n",
            "12.0\n",
            "6451760000.0\n",
            "9.0\n",
            "6265777700.0\n",
            "12.0\n",
            "5910495000.0\n",
            "18.0\n",
            "6628625400.0\n",
            "8.0\n",
            "6546819000.0\n",
            "5.0\n",
            "6119389000.0\n",
            "13.0\n",
            "6495509000.0\n",
            "8.0\n",
            "6421470000.0\n",
            "7.0\n",
            "6915741700.0\n",
            "6.0\n",
            "6130286000.0\n",
            "13.0\n",
            "6589298000.0\n",
            "9.0\n",
            "6328649700.0\n",
            "10.0\n",
            "6372643300.0\n",
            "9.0\n",
            "6461257700.0\n",
            "8.0\n",
            "6508280300.0\n",
            "7.0\n",
            "6235465700.0\n",
            "13.0\n",
            "6331166000.0\n",
            "8.0\n",
            "6566597000.0\n",
            "11.0\n",
            "6505024500.0\n",
            "9.0\n",
            "6143759400.0\n",
            "12.0\n",
            "6602660400.0\n",
            "13.0\n",
            "6400696000.0\n",
            "12.0\n",
            "6329347000.0\n",
            "10.0\n",
            "6466631000.0\n",
            "11.0\n",
            "6702074000.0\n",
            "3.0\n",
            "6019395000.0\n",
            "10.0\n",
            "6350970000.0\n",
            "10.0\n",
            "6143694000.0\n",
            "14.0\n",
            "6283244500.0\n",
            "10.0\n",
            "6564783000.0\n",
            "11.0\n",
            "5786999300.0\n",
            "15.0\n",
            "6144705000.0\n",
            "13.0\n",
            "6487539000.0\n",
            "8.0\n",
            "6505285600.0\n",
            "10.0\n",
            "6428894700.0\n",
            "7.0\n",
            "6153808000.0\n",
            "12.0\n",
            "6761228000.0\n",
            "6.0\n",
            "6054980600.0\n",
            "15.0\n",
            "6548822500.0\n",
            "6.0\n",
            "5743830500.0\n",
            "22.0\n",
            "6412018000.0\n",
            "10.0\n",
            "6240179000.0\n",
            "12.0\n",
            "6243096600.0\n",
            "10.0\n",
            "6537637000.0\n",
            "9.0\n",
            "6629573000.0\n",
            "5.0\n",
            "5913479700.0\n",
            "12.0\n",
            "5679183400.0\n",
            "13.0\n",
            "5942146000.0\n",
            "15.0\n",
            "Epoch  0  Epoch Loss  637144063488.0  Accuracy Total  10.05\n",
            "6687199000.0\n",
            "7.0\n",
            "6304829400.0\n",
            "12.0\n",
            "6004825600.0\n",
            "15.0\n",
            "6916346400.0\n",
            "7.0\n",
            "6489826300.0\n",
            "10.0\n",
            "6183754000.0\n",
            "8.0\n",
            "6453056500.0\n",
            "5.0\n",
            "7107479000.0\n",
            "8.0\n",
            "6411544600.0\n",
            "6.0\n",
            "6234994000.0\n",
            "11.0\n",
            "6881539600.0\n",
            "7.0\n",
            "6362880500.0\n",
            "9.0\n",
            "6339646500.0\n",
            "12.0\n",
            "6739624400.0\n",
            "9.0\n"
          ],
          "name": "stdout"
        }
      ]
    }
  ]
}